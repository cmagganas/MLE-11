{
  "cells": [
    {
      "cell_type": "markdown",
      "metadata": {
        "id": "-egkpUTSarLK"
      },
      "source": [
        "# In Class Follow Along Notebook\n"
      ]
    },
    {
      "cell_type": "markdown",
      "metadata": {
        "id": "UJjtovQ9axry"
      },
      "source": [
        "First things first, we'll set-up the data!"
      ]
    },
    {
      "cell_type": "code",
      "execution_count": 1,
      "metadata": {
        "id": "2i_bITLVY7zD"
      },
      "outputs": [],
      "source": [
        "NUM_LABELS = 2"
      ]
    },
    {
      "cell_type": "code",
<<<<<<< HEAD
      "execution_count": 2,
=======
      "source": [
        "import pandas as pd\n",
        "\n",
        "cleaned_tweets = pd.read_csv(\"cleaned_tweets.csv\")"
      ],
>>>>>>> aed64deb5e86c29be92b7b6c9ac3b7fa48c41dee
      "metadata": {
        "id": "OkIZ8Z6oZEKp"
      },
      "outputs": [],
      "source": [
        "import pandas as pd\n",
        "\n",
        "cleaned_tweets = pd.read_csv(\"cleaned_tweets.csv\")"
      ]
    },
    {
      "cell_type": "code",
      "execution_count": 3,
      "metadata": {
        "colab": {
          "base_uri": "https://localhost:8080/",
          "height": 206
        },
        "id": "wP0EBj57ZZiw",
        "outputId": "59ee5d4a-7071-4ca8-a4c3-c3bec0262cb0"
      },
      "outputs": [
        {
          "data": {
            "text/html": [
              "\n",
              "  <div id=\"df-ad600e47-4239-48c2-9245-c6b65c32d9d9\">\n",
              "    <div class=\"colab-df-container\">\n",
              "      <div>\n",
              "<style scoped>\n",
              "    .dataframe tbody tr th:only-of-type {\n",
              "        vertical-align: middle;\n",
              "    }\n",
              "\n",
              "    .dataframe tbody tr th {\n",
              "        vertical-align: top;\n",
              "    }\n",
              "\n",
              "    .dataframe thead th {\n",
              "        text-align: right;\n",
              "    }\n",
              "</style>\n",
              "<table border=\"1\" class=\"dataframe\">\n",
              "  <thead>\n",
              "    <tr style=\"text-align: right;\">\n",
              "      <th></th>\n",
              "      <th>tidy_tweet</th>\n",
              "      <th>label</th>\n",
              "    </tr>\n",
              "  </thead>\n",
              "  <tbody>\n",
              "    <tr>\n",
              "      <th>0</th>\n",
              "      <td>when a father is dysfunctional and is so sel...</td>\n",
              "      <td>0</td>\n",
              "    </tr>\n",
              "    <tr>\n",
              "      <th>1</th>\n",
              "      <td>thanks for #lyft credit i cant use cause the...</td>\n",
              "      <td>0</td>\n",
              "    </tr>\n",
              "    <tr>\n",
              "      <th>2</th>\n",
              "      <td>bihday your majesty</td>\n",
              "      <td>0</td>\n",
              "    </tr>\n",
              "    <tr>\n",
              "      <th>3</th>\n",
              "      <td>#model   i love u take with u all the time in ...</td>\n",
              "      <td>0</td>\n",
              "    </tr>\n",
              "    <tr>\n",
              "      <th>4</th>\n",
              "      <td>factsguide society now    #motivation</td>\n",
              "      <td>0</td>\n",
              "    </tr>\n",
              "  </tbody>\n",
              "</table>\n",
              "</div>\n",
              "      <button class=\"colab-df-convert\" onclick=\"convertToInteractive('df-ad600e47-4239-48c2-9245-c6b65c32d9d9')\"\n",
              "              title=\"Convert this dataframe to an interactive table.\"\n",
              "              style=\"display:none;\">\n",
              "        \n",
              "  <svg xmlns=\"http://www.w3.org/2000/svg\" height=\"24px\"viewBox=\"0 0 24 24\"\n",
              "       width=\"24px\">\n",
              "    <path d=\"M0 0h24v24H0V0z\" fill=\"none\"/>\n",
              "    <path d=\"M18.56 5.44l.94 2.06.94-2.06 2.06-.94-2.06-.94-.94-2.06-.94 2.06-2.06.94zm-11 1L8.5 8.5l.94-2.06 2.06-.94-2.06-.94L8.5 2.5l-.94 2.06-2.06.94zm10 10l.94 2.06.94-2.06 2.06-.94-2.06-.94-.94-2.06-.94 2.06-2.06.94z\"/><path d=\"M17.41 7.96l-1.37-1.37c-.4-.4-.92-.59-1.43-.59-.52 0-1.04.2-1.43.59L10.3 9.45l-7.72 7.72c-.78.78-.78 2.05 0 2.83L4 21.41c.39.39.9.59 1.41.59.51 0 1.02-.2 1.41-.59l7.78-7.78 2.81-2.81c.8-.78.8-2.07 0-2.86zM5.41 20L4 18.59l7.72-7.72 1.47 1.35L5.41 20z\"/>\n",
              "  </svg>\n",
              "      </button>\n",
              "      \n",
              "  <style>\n",
              "    .colab-df-container {\n",
              "      display:flex;\n",
              "      flex-wrap:wrap;\n",
              "      gap: 12px;\n",
              "    }\n",
              "\n",
              "    .colab-df-convert {\n",
              "      background-color: #E8F0FE;\n",
              "      border: none;\n",
              "      border-radius: 50%;\n",
              "      cursor: pointer;\n",
              "      display: none;\n",
              "      fill: #1967D2;\n",
              "      height: 32px;\n",
              "      padding: 0 0 0 0;\n",
              "      width: 32px;\n",
              "    }\n",
              "\n",
              "    .colab-df-convert:hover {\n",
              "      background-color: #E2EBFA;\n",
              "      box-shadow: 0px 1px 2px rgba(60, 64, 67, 0.3), 0px 1px 3px 1px rgba(60, 64, 67, 0.15);\n",
              "      fill: #174EA6;\n",
              "    }\n",
              "\n",
              "    [theme=dark] .colab-df-convert {\n",
              "      background-color: #3B4455;\n",
              "      fill: #D2E3FC;\n",
              "    }\n",
              "\n",
              "    [theme=dark] .colab-df-convert:hover {\n",
              "      background-color: #434B5C;\n",
              "      box-shadow: 0px 1px 3px 1px rgba(0, 0, 0, 0.15);\n",
              "      filter: drop-shadow(0px 1px 2px rgba(0, 0, 0, 0.3));\n",
              "      fill: #FFFFFF;\n",
              "    }\n",
              "  </style>\n",
              "\n",
              "      <script>\n",
              "        const buttonEl =\n",
              "          document.querySelector('#df-ad600e47-4239-48c2-9245-c6b65c32d9d9 button.colab-df-convert');\n",
              "        buttonEl.style.display =\n",
              "          google.colab.kernel.accessAllowed ? 'block' : 'none';\n",
              "\n",
              "        async function convertToInteractive(key) {\n",
              "          const element = document.querySelector('#df-ad600e47-4239-48c2-9245-c6b65c32d9d9');\n",
              "          const dataTable =\n",
              "            await google.colab.kernel.invokeFunction('convertToInteractive',\n",
              "                                                     [key], {});\n",
              "          if (!dataTable) return;\n",
              "\n",
              "          const docLinkHtml = 'Like what you see? Visit the ' +\n",
              "            '<a target=\"_blank\" href=https://colab.research.google.com/notebooks/data_table.ipynb>data table notebook</a>'\n",
              "            + ' to learn more about interactive tables.';\n",
              "          element.innerHTML = '';\n",
              "          dataTable['output_type'] = 'display_data';\n",
              "          await google.colab.output.renderOutput(dataTable, element);\n",
              "          const docLink = document.createElement('div');\n",
              "          docLink.innerHTML = docLinkHtml;\n",
              "          element.appendChild(docLink);\n",
              "        }\n",
              "      </script>\n",
              "    </div>\n",
              "  </div>\n",
              "  "
            ],
            "text/plain": [
              "                                          tidy_tweet  label\n",
              "0    when a father is dysfunctional and is so sel...      0\n",
              "1    thanks for #lyft credit i cant use cause the...      0\n",
              "2                                bihday your majesty      0\n",
              "3  #model   i love u take with u all the time in ...      0\n",
              "4              factsguide society now    #motivation      0"
            ]
          },
          "execution_count": 3,
          "metadata": {},
          "output_type": "execute_result"
        }
      ],
      "source": [
        "cleaned_tweets.head()"
      ]
    },
    {
      "cell_type": "code",
      "execution_count": 4,
      "metadata": {
        "id": "YNdI8lPqZfBK"
      },
      "outputs": [],
      "source": [
        "X, y = pd.Series(cleaned_tweets['tidy_tweet']), pd.Series(cleaned_tweets['label'])"
      ]
    },
    {
      "cell_type": "code",
      "execution_count": 5,
      "metadata": {
        "id": "mckqeu1aZpfN"
      },
      "outputs": [],
      "source": [
        "from sklearn.model_selection import train_test_split\n",
        "X_train_sub, X_test, y_train_sub, y_test = train_test_split(X, y, test_size=0.3, stratify=y, random_state=42)"
      ]
    },
    {
      "cell_type": "code",
      "execution_count": 6,
      "metadata": {
        "id": "VTWa4CbkaAeD"
      },
      "outputs": [],
      "source": [
        "X_train, X_valid, y_train, y_valid = train_test_split(X_train_sub, y_train_sub, test_size=0.2, stratify=y_train_sub, random_state=42)"
      ]
    },
    {
      "cell_type": "markdown",
      "metadata": {
        "id": "990gUduTa2a5"
      },
      "source": [
        "## Positional Embedding Layer\n",
        "\n",
        "We'll make the positional embedding layer as seen in the \"Attention is all you need\" paper!\n",
        "\n",
        "The idea behind Positional Encoding is fairly simple as well: to give the model access to token order information, therefore we are going to add the token's position in the sentence to each word embedding.\n",
        "\n",
        "Thus, one input word embedding will have two components: the usual token vector representing the token independent of any specific context, and a position vector representing the position of the token in the current sequence."
      ]
    },
    {
      "cell_type": "code",
      "execution_count": null,
      "metadata": {
        "id": "yvLfFMAV6FcJ"
      },
      "outputs": [],
      "source": [
        "!pip install tensorflow==2.8.0"
      ]
    },
    {
      "cell_type": "code",
      "execution_count": 8,
      "metadata": {
        "id": "CPEA_KsZaky5"
      },
      "outputs": [],
      "source": [
        "### Positional Embedding\n",
        "from tensorflow.keras import layers as L\n",
        "import tensorflow as tf\n",
        "from tensorflow import keras\n",
        "\n",
        "class PositionalEmbedding(L.Layer):\n",
        "    def __init__(self, sequence_length, input_dim, output_dim, **kwargs):\n",
        "        self.token_embeddings = L.Embedding(input_dim=input_dim, output_dim=output_dim) # YOUR CODE HERE\n",
        "        self.position_embeddings = L.Embedding(input_dim=sequence_length, output_dim=output_dim) # YOUR CODE HERE\n",
        "        self.sequence_length = sequence_length\n",
        "        self.input_dim = input_dim\n",
        "        self.output_dim = output_dim\n",
        "        super().__init__(**kwargs)\n",
        "        \n",
        "    def call(self, inputs):\n",
        "        length = tf.shape(inputs)[-1]\n",
        "        positions = tf.range(start=0, limit=length, delta=1)\n",
        "        embedded_tokens = self.token_embeddings(inputs)\n",
        "        embedded_positions = self.position_embeddings(positions)\n",
        "        return embedded_tokens + embedded_positions\n",
        "        \n",
        "    def get_config(self):\n",
        "        config = super().get_config()\n",
        "        config.update({\n",
        "            \"output_dim\": self.output_dim,\n",
        "            \"sequence_length\": self.sequence_length,\n",
        "            \"input_dim\": self.input_dim,\n",
        "        })\n",
        "        return config"
      ]
    },
    {
      "cell_type": "code",
      "execution_count": 9,
      "metadata": {
        "colab": {
          "base_uri": "https://localhost:8080/",
          "height": 35
        },
        "id": "_-iP97_Y5vBZ",
        "outputId": "5781e20b-1e6b-4747-ad78-74f373cd634c"
      },
      "outputs": [
        {
          "data": {
            "application/vnd.google.colaboratory.intrinsic+json": {
              "type": "string"
            },
            "text/plain": [
              "'2.8.0'"
            ]
          },
          "execution_count": 9,
          "metadata": {},
          "output_type": "execute_result"
        }
      ],
      "source": [
        "tf.__version__"
      ]
    },
    {
      "cell_type": "markdown",
      "metadata": {
        "id": "AzCOplI_eJEf"
      },
      "source": [
        "## Transformer Block\n",
        "\n",
        "Recently most of the natural language processing tasks are being dominated by the Transformer architecture, introduced in [Attention Is All You Need](https://arxiv.org/abs/1706.03762), which used a simple mechanism called Neural Attention as one of its building blocks. As the title suggests this architecture didn't require any recurrent layer. We now build a text classification using Attention and Positional Embeddings.\n",
        "\n",
        "Transformer (attention) Block.\n",
        "\n",
        "The concept of Neural Attention is fairly simple; i.e., not all input information seen by a model is equally important to the task at hand. Although this concept has been utilized at various different places as well, e.g., max pooling in ConvNets, but the kind of attention we are looking for should be context aware.\n",
        "\n",
        "The attention mechanism allows output to focus attention on input while producing output while the self-attention model allows inputs to interact with each other; in other words, calculate attention of all other inputs with respect to one input.\n",
        "\n",
        "In the paper, the authors proposed another type of attention mechanism called multi-headed attention which refers to the fact that the outer space of the self attention layer gets factored into a set of independent sub-spaces learned separately, where each subspace is called a \"head\". You need to implement the multi-head attention layer, supplying values for two parameters: num_heads and key_dim.\n",
        "\n",
        "There is a learnable dense projection present after the multi-head attention which enables the layer to actually learn something, as opposed to being a purely stateless transformation. You need to implement dense_proj, use the tf.keras.Sequential to stack two dense layers:\n",
        "\n",
        " 1. first dense layer with `dense_dim` units and activation function `relu`;\n",
        " 2. second dense layer with `embed_dim` units and no activation function."
      ]
    },
    {
      "cell_type": "code",
      "execution_count": 10,
      "metadata": {
        "id": "mSQCJSvTecQ0"
      },
      "outputs": [],
      "source": [
        "class TransformerBlock(L.Layer):\n",
        "    def __init__(self, embed_dim, dense_dim, num_heads, **kwargs):\n",
        "        self.embed_dim = embed_dim\n",
        "        self.dense_dim = dense_dim\n",
        "        self.num_heads = num_heads\n",
        "        self.attention = L.MultiHeadAttention(num_heads=num_heads, key_dim=embed_dim) # YOUR CODE HERE\n",
        "        self.dense_proj = keras.Sequential([\n",
        "            L.Dense(dense_dim, activation='relu'),\n",
        "            L.Dense(embed_dim)\n",
        "            ])\n",
        "        self.layernorm1 = L.LayerNormalization()\n",
        "        self.layernorm2 = L.LayerNormalization()\n",
        "        super().__init__(**kwargs)\n",
        "    \n",
        "    def call(self, inputs, mask=None):\n",
        "        if mask is not None:\n",
        "            mask = mask[: tf.newaxis, :]\n",
        "        attention_output = self.attention(inputs, inputs, attention_mask=mask)\n",
        "        proj_input = self.layernorm1(inputs + attention_output)\n",
        "        proj_output = self.dense_proj(proj_input)\n",
        "        return self.layernorm2(proj_input + proj_output)\n",
        "    \n",
        "    def get_config(self):\n",
        "        config = super().get_config()\n",
        "        config.update({\n",
        "            \"embed_dim\": self.embed_dim,\n",
        "            \"num_heads\": self.num_heads,\n",
        "            \"dense_dim\": self.dense_dim\n",
        "        })\n",
        "        return config"
      ]
    },
    {
      "cell_type": "markdown",
      "metadata": {
        "id": "mGlaqhELc4XJ"
      },
      "source": [
        "## Transformer Model in Keras\n",
        "\n",
        "Let's build it!"
      ]
    },
    {
      "cell_type": "code",
      "execution_count": 11,
      "metadata": {
        "id": "kGU1mvM5dBCR"
      },
      "outputs": [],
      "source": [
        "VOCAB_SIZE = 10_000\n",
        "EMBED_DIM = 256\n",
        "DENSE_DIM = 32\n",
        "NUM_HEADS = 2\n",
        "MAX_LEN = 256"
      ]
    },
    {
      "cell_type": "markdown",
      "metadata": {
        "id": "-FQNdZcOdEwf"
      },
      "source": [
        "Tokenizer.\n",
        "\n",
        "The tokenizer is a simple tool to convert a text into a sequence of tokens. It is used to convert the training data into a sequence of integers, which are then used as input to the model.\n",
        "\n",
        "Use Tokenizer to create a tokenizer for the training data. Set the num_words parameter to the number of words to keep in the vocabulary, and oov_token to be \"\\<unk>\"."
      ]
    },
    {
      "cell_type": "code",
      "execution_count": 12,
      "metadata": {
        "id": "FpvW57zwdCrW"
      },
      "outputs": [],
      "source": [
        "from keras.preprocessing.text import Tokenizer\n",
        "tokenizer = Tokenizer(num_words=VOCAB_SIZE, oov_token='<unw>') # YOUR CODE HERE\n",
        "tokenizer.fit_on_texts(X_train)"
      ]
    },
    {
      "cell_type": "markdown",
      "metadata": {
        "id": "_qJJ073cdMuF"
      },
      "source": [
        "Pad the sequences.\n",
        "\n",
        "The tokenizer outputs a sequence of integers, which are then used as input to the model. However, the model expects a sequence of fixed length. To pad the sequences to the same length, use sequence.pad_sequences from keras.preprocessing.\n",
        "\n",
        "Complete function preprocess below to 1) tokenize the texts 2) pad the sequences to the same length."
      ]
    },
    {
      "cell_type": "code",
      "execution_count": 13,
      "metadata": {
        "id": "ABEZtL1fdNVP"
      },
      "outputs": [],
      "source": [
        "from keras.preprocessing import sequence\n",
        "\n",
        "def preprocess(texts, tokenizer, maxlen:int = MAX_LEN):\n",
        "    tokenized_text = tokenizer.texts_to_sequences(texts) # YOUR CODE HERE\n",
        "    seqs = sequence.pad_sequences(tokenized_text, maxlen=maxlen)  # YOUR CODE HERE\n",
        "    return seqs"
      ]
    },
    {
      "cell_type": "markdown",
      "metadata": {
        "id": "oFMp4gygdQXr"
      },
      "source": [
        "Preprocess the data.\n",
        "\n",
        "Use preprocess to preprocess the training, validation, and test data."
      ]
    },
    {
      "cell_type": "code",
      "execution_count": 14,
      "metadata": {
        "id": "M_64X4SUdRWt"
      },
      "outputs": [],
      "source": [
        "X_train = preprocess(X_train, tokenizer) # YOUR CODE HERE\n",
        "X_valid = preprocess(X_valid, tokenizer) # YOUR CODE HERE\n",
        "X_test  = preprocess(X_test,  tokenizer) # YOUR CODE HERE"
      ]
    },
    {
      "cell_type": "markdown",
      "metadata": {
        "id": "DEw_iUdLdVod"
      },
      "source": [
        "Define the model with the following architecture:\n",
        "\n",
        "* Input Layer\n",
        "* Positional Embeddings\n",
        "* Transformer Block\n",
        "* Pooling\n",
        "* Dropout\n",
        "* Output Layer\n",
        "\n",
        "If you are not familiar with keras functional API, take a read [here](https://keras.io/guides/functional_api/)."
      ]
    },
    {
      "cell_type": "code",
      "execution_count": 15,
      "metadata": {
        "id": "nj6VLLiRdW3u"
      },
      "outputs": [],
      "source": [
        "inputs = keras.Input(shape=(None, ), dtype=\"int64\")\n",
        "x = PositionalEmbedding(MAX_LEN, VOCAB_SIZE, EMBED_DIM)(inputs) # YOUR CODE HERE\n",
        "x = TransformerBlock(EMBED_DIM, DENSE_DIM, NUM_HEADS)(x) # YOUR CODE HERE\n",
        "x = L.GlobalMaxPooling1D()(x)\n",
        "x = L.Dropout(0.1)(x)\n",
        "outputs = L.Dense(1, activation='sigmoid')(x)\n",
        "\n",
        "model = keras.Model(inputs, outputs)"
      ]
    },
    {
      "cell_type": "markdown",
      "metadata": {
        "id": "2vBkk6dAdox1"
      },
      "source": [
        "Compile model.\n",
        "\n",
        "Use 'adam' for the optimizer and accuracy for metrics, supply the correct value for loss.\n",
        "\n",
        "Remember, this is a binary classification task!"
      ]
    },
    {
      "cell_type": "code",
      "execution_count": 16,
      "metadata": {
        "id": "D0H-JOY7dpa8"
      },
      "outputs": [],
      "source": [
        "model.compile(\n",
        "    optimizer='adam', # YOUR CODE HERE\n",
        "    loss='binary_crossentropy', # YOUR CODE HERE\n",
        "    metrics=['accuracy']) # YOUR CODE HERE"
      ]
    },
    {
      "cell_type": "code",
      "execution_count": 17,
      "metadata": {
        "colab": {
          "base_uri": "https://localhost:8080/"
        },
        "id": "u_noMiW2dss4",
        "outputId": "f994af44-3ae8-4861-9bf5-b4dd9543b0e3"
      },
      "outputs": [
        {
          "name": "stdout",
          "output_type": "stream",
          "text": [
            "Model: \"model\"\n",
            "_________________________________________________________________\n",
            " Layer (type)                Output Shape              Param #   \n",
            "=================================================================\n",
            " input_1 (InputLayer)        [(None, None)]            0         \n",
            "                                                                 \n",
            " positional_embedding (Posit  (None, None, 256)        2625536   \n",
            " ionalEmbedding)                                                 \n",
            "                                                                 \n",
            " transformer_block (Transfor  (None, None, 256)        543776    \n",
            " merBlock)                                                       \n",
            "                                                                 \n",
            " global_max_pooling1d (Globa  (None, 256)              0         \n",
            " lMaxPooling1D)                                                  \n",
            "                                                                 \n",
            " dropout (Dropout)           (None, 256)               0         \n",
            "                                                                 \n",
            " dense_2 (Dense)             (None, 1)                 257       \n",
            "                                                                 \n",
            "=================================================================\n",
            "Total params: 3,169,569\n",
            "Trainable params: 3,169,569\n",
            "Non-trainable params: 0\n",
            "_________________________________________________________________\n"
          ]
        }
      ],
      "source": [
        "model.summary()"
      ]
    },
    {
      "cell_type": "markdown",
      "metadata": {
        "id": "1mf4WnvTdu2s"
      },
      "source": [
        "Add [EarlyStopping](https://keras.io/api/callbacks/early_stopping/) and [ReduceLROnPlateau](https://keras.io/api/callbacks/reduce_lr_on_plateau/) to stop training if the model does not improve a set metric after a given number of epochs.\n",
        "\n",
        "Create an EarlyStopping object named es to stop training if the validation loss does not improve after 5 epochs. Set verbose to display messages when the callback takes an action and set restore_best_weights to restore model weights from the epoch with the best value of the monitored metric.\n",
        "\n",
        "Use ReduceLROnPlateau to reduce the learning rate if the validation loss does not improve after 3 epochs. Set verbose to display messages when the callback takes an action and use default values for other parameters."
      ]
    },
    {
      "cell_type": "code",
      "execution_count": 18,
      "metadata": {
        "id": "A221divwd2pX"
      },
      "outputs": [],
      "source": [
        "es = keras.callbacks.EarlyStopping(verbose=1, patience=5, restore_best_weights=True) # YOUR CODE HERE\n",
        "rlp = keras.callbacks.ReduceLROnPlateau(patience=3, verbose=1) # YOUR CODE HERE"
      ]
    },
    {
      "cell_type": "markdown",
      "metadata": {
        "id": "prI5VSd5d5ju"
      },
      "source": [
        "Train the model.\n",
        "\n",
        "Supply both EarlyStopping and ReduceLROnPlateau for callbacks. Set epochs to 100."
      ]
    },
    {
      "cell_type": "code",
      "execution_count": 19,
      "metadata": {
        "colab": {
          "base_uri": "https://localhost:8080/"
        },
        "id": "rxTZtZ_nd8Cf",
        "outputId": "12a7f66b-4538-47a2-e3d5-2e6582bc8eb5"
      },
      "outputs": [
        {
          "name": "stdout",
          "output_type": "stream",
          "text": [
            "Epoch 1/10\n",
            "560/560 [==============================] - 23s 32ms/step - loss: 0.1775 - accuracy: 0.9435 - val_loss: 0.1263 - val_accuracy: 0.9573 - lr: 0.0010\n",
            "Epoch 2/10\n",
            "560/560 [==============================] - 14s 25ms/step - loss: 0.0665 - accuracy: 0.9770 - val_loss: 0.1996 - val_accuracy: 0.9511 - lr: 0.0010\n",
            "Epoch 3/10\n",
            "560/560 [==============================] - 14s 25ms/step - loss: 0.0235 - accuracy: 0.9927 - val_loss: 0.1840 - val_accuracy: 0.9558 - lr: 0.0010\n",
            "Epoch 4/10\n",
            "560/560 [==============================] - ETA: 0s - loss: 0.0091 - accuracy: 0.9976\n",
            "Epoch 4: ReduceLROnPlateau reducing learning rate to 0.00010000000474974513.\n",
            "560/560 [==============================] - 14s 26ms/step - loss: 0.0091 - accuracy: 0.9976 - val_loss: 0.1571 - val_accuracy: 0.9542 - lr: 0.0010\n",
            "Epoch 5/10\n",
            "560/560 [==============================] - 15s 26ms/step - loss: 0.0032 - accuracy: 0.9993 - val_loss: 0.1716 - val_accuracy: 0.9580 - lr: 1.0000e-04\n",
            "Epoch 6/10\n",
            "559/560 [============================>.] - ETA: 0s - loss: 0.0018 - accuracy: 0.9996Restoring model weights from the end of the best epoch: 1.\n",
            "560/560 [==============================] - 15s 26ms/step - loss: 0.0018 - accuracy: 0.9996 - val_loss: 0.1766 - val_accuracy: 0.9578 - lr: 1.0000e-04\n",
            "Epoch 6: early stopping\n"
          ]
        }
      ],
      "source": [
        "history = model.fit(\n",
        "    X_train, y_train, \n",
        "    validation_data=(X_valid, y_valid),\n",
        "    callbacks=[es, rlp], # YOUR CODE HERE\n",
        "    epochs=10\n",
        ")"
      ]
    },
    {
      "cell_type": "markdown",
      "metadata": {
        "id": "bCs1ljq5d-fl"
      },
      "source": [
        "Evaluate the trained model on the test data."
      ]
    },
    {
      "cell_type": "code",
      "execution_count": 20,
      "metadata": {
        "colab": {
          "base_uri": "https://localhost:8080/"
        },
        "id": "Yk20ucAWd_hZ",
        "outputId": "dacf6090-95d5-41be-8763-02b789e975da"
      },
      "outputs": [
        {
          "name": "stdout",
          "output_type": "stream",
          "text": [
            "300/300 [==============================] - 3s 10ms/step - loss: 0.1298 - accuracy: 0.9566\n"
          ]
        },
        {
          "data": {
            "text/plain": [
              "[0.12982065975666046, 0.9566169381141663]"
            ]
          },
          "execution_count": 20,
          "metadata": {},
          "output_type": "execute_result"
        }
      ],
      "source": [
        "model.evaluate(X_test, y_test)"
      ]
    },
    {
      "cell_type": "markdown",
      "metadata": {
        "id": "Vpr4AktheCHj"
      },
      "source": [
        "Visualize both loss and accuracy curves for the training and validation data."
      ]
    },
    {
      "cell_type": "code",
      "execution_count": 21,
      "metadata": {
        "colab": {
          "base_uri": "https://localhost:8080/",
          "height": 787
        },
        "id": "-UQh-ADKeDUD",
        "outputId": "344ac003-2e2d-446a-c34c-1f0c52be9c26"
      },
      "outputs": [
        {
          "data": {
            "image/png": "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",
            "text/plain": [
              "<Figure size 1440x864 with 2 Axes>"
            ]
          },
          "metadata": {},
          "output_type": "display_data"
        }
      ],
      "source": [
        "import matplotlib.pyplot as plt\n",
        "import seaborn as sns\n",
        "sns.set_style('darkgrid')\n",
        "\n",
        "history = pd.DataFrame(history.history)\n",
        "fig, ax = plt.subplots(2, 1, figsize=(20, 12))\n",
        "fig.suptitle('Learning Curve', fontsize=24)\n",
        "history[['loss', 'val_loss']].plot(ax=ax[0])\n",
        "history[['accuracy', 'val_accuracy']].plot(ax=ax[1])\n",
        "ax[0].set_title('Loss', fontsize=18)\n",
        "ax[1].set_title('Accuarcy', fontsize=18);"
      ]
    }
  ],
  "metadata": {
    "accelerator": "GPU",
    "colab": {
      "provenance": []
    },
    "gpuClass": "standard",
    "kernelspec": {
      "display_name": "mlops-course",
      "language": "python",
      "name": "python3"
    },
    "language_info": {
      "codemirror_mode": {
        "name": "ipython",
        "version": 3
      },
      "file_extension": ".py",
      "mimetype": "text/x-python",
      "name": "python",
      "nbconvert_exporter": "python",
      "pygments_lexer": "ipython3",
      "version": "3.8.15"
    },
    "vscode": {
      "interpreter": {
        "hash": "1ad10f3d8bef32de4d5a18090cc025372e6a794e11ac70b788a8ce22413a717f"
      }
    }
<<<<<<< HEAD
  },
  "nbformat": 4,
  "nbformat_minor": 0
=======
  ]
>>>>>>> aed64deb5e86c29be92b7b6c9ac3b7fa48c41dee
}
